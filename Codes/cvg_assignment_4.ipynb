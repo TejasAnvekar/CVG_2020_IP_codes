{
 "cells": [
  {
   "cell_type": "markdown",
   "metadata": {},
   "source": [
    "# Combining 2 Image"
   ]
  },
  {
   "cell_type": "code",
   "execution_count": 28,
   "metadata": {},
   "outputs": [],
   "source": [
    "import cv2 \n",
    "import numpy as np"
   ]
  },
  {
   "cell_type": "code",
   "execution_count": 53,
   "metadata": {},
   "outputs": [],
   "source": [
    "I1=cv2.imread('/home/tejas/Github/cvg_2020/Images/leena.jpg',)\n",
    "I2=cv2.imread('/home/tejas/Github/cvg_2020/Images/image2.jpeg')\n",
    "I2=cv2.resize(I2,(I1.shape[1],I1.shape[0]))\n",
    "I3=np.zeros((I1.shape[0],I1.shape[1],3),dtype='uint8')"
   ]
  },
  {
   "cell_type": "code",
   "execution_count": 56,
   "metadata": {
    "tags": []
   },
   "outputs": [],
   "source": [
    "for i in range (I1.shape[0]):\n",
    "    for j in range (0,I1.shape[1]//2):\n",
    "        I3[i][j]=I1[i][j]\n",
    "for i in range (I2.shape[0]):\n",
    "    for j in range (I2.shape[1]//2,I2.shape[1]):\n",
    "        I3[i][j]=I2[i][j]"
   ]
  },
  {
   "cell_type": "code",
   "execution_count": 57,
   "metadata": {},
   "outputs": [
    {
     "data": {
      "text/plain": [
       "True"
      ]
     },
     "execution_count": 57,
     "metadata": {},
     "output_type": "execute_result"
    }
   ],
   "source": [
    "cv2.imwrite(\"/home/tejas/Github/cvg_2020/Images/image4.jpeg\",I3)"
   ]
  },
  {
   "cell_type": "code",
   "execution_count": null,
   "metadata": {},
   "outputs": [],
   "source": []
  }
 ],
 "metadata": {
  "kernelspec": {
   "display_name": "Python 3.7.6 64-bit ('base': conda)",
   "language": "python",
   "name": "python37664bitbasecondaea71ced63f4b4ecf89c44309662bbcb1"
  },
  "language_info": {
   "codemirror_mode": {
    "name": "ipython",
    "version": 3
   },
   "file_extension": ".py",
   "mimetype": "text/x-python",
   "name": "python",
   "nbconvert_exporter": "python",
   "pygments_lexer": "ipython3",
   "version": "3.7.6"
  }
 },
 "nbformat": 4,
 "nbformat_minor": 4
}
