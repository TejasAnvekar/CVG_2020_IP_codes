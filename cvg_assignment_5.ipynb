{
 "cells": [
  {
   "cell_type": "markdown",
   "metadata": {},
   "source": [
    "# Padding image(Adding border)"
   ]
  },
  {
   "cell_type": "code",
   "execution_count": 2,
   "metadata": {},
   "outputs": [],
   "source": [
    "import cv2\n",
    "import numpy as np"
   ]
  },
  {
   "cell_type": "code",
   "execution_count": 4,
   "metadata": {},
   "outputs": [
    {
     "output_type": "execute_result",
     "data": {
      "text/plain": "(373, 497, 3)"
     },
     "metadata": {},
     "execution_count": 4
    }
   ],
   "source": [
    "I=cv2.imread('leena.jpg')\n",
    "I.shape"
   ]
  },
  {
   "cell_type": "code",
   "execution_count": 5,
   "metadata": {},
   "outputs": [],
   "source": [
    "x=int(input(\" Enter border pixel size : \"))"
   ]
  },
  {
   "cell_type": "code",
   "execution_count": 50,
   "metadata": {},
   "outputs": [],
   "source": [
    "def pad(x):\n",
    "    color=(255,127,255)\n",
    "    ww=x+I.shape[1]\n",
    "    hh=x+I.shape[0]\n",
    "    b=np.full((hh,ww,3),color,dtype='uint8')\n",
    "     ## compute center offset\n",
    "    xx=(ww-I.shape[1])//2\n",
    "    yy=(hh-I.shape[0])//2\n",
    "    b[yy:yy+I.shape[0], xx:xx+I.shape[1]]=I\n",
    "\n",
    "    cv2.imwrite('border.jpeg',b)\n",
    "\n",
    "  \n"
   ]
  },
  {
   "cell_type": "code",
   "execution_count": 51,
   "metadata": {},
   "outputs": [],
   "source": [
    "pad(x)"
   ]
  },
  {
   "cell_type": "code",
   "execution_count": null,
   "metadata": {},
   "outputs": [],
   "source": []
  }
 ],
 "metadata": {
  "language_info": {
   "codemirror_mode": {
    "name": "ipython",
    "version": 3
   },
   "file_extension": ".py",
   "mimetype": "text/x-python",
   "name": "python",
   "nbconvert_exporter": "python",
   "pygments_lexer": "ipython3",
   "version": "3.7.6-final"
  },
  "orig_nbformat": 2,
  "kernelspec": {
   "name": "python37664bitbasecondaea71ced63f4b4ecf89c44309662bbcb1",
   "display_name": "Python 3.7.6 64-bit ('base': conda)"
  }
 },
 "nbformat": 4,
 "nbformat_minor": 2
}