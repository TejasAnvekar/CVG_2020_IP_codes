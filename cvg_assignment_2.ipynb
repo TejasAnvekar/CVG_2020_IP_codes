{
 "cells": [
  {
   "cell_type": "code",
   "execution_count": 1,
   "metadata": {},
   "outputs": [],
   "source": [
    "import cv2\n",
    "import numpy as np"
   ]
  },
  {
   "cell_type": "code",
   "execution_count": 2,
   "metadata": {},
   "outputs": [
    {
     "name": "stdout",
     "output_type": "stream",
     "text": [
      "enter number of rows in image : 640\n"
     ]
    }
   ],
   "source": [
    "x=int(input(\"enter number of rows in image : \"))\n",
    "A=np.zeros((x,x,3),dtype='uint8')"
   ]
  },
  {
   "cell_type": "code",
   "execution_count": 3,
   "metadata": {},
   "outputs": [],
   "source": [
    "for i in range (A.shape[0]//1):\n",
    "    for j in range (A.shape[1]//1):\n",
    "        if i<=j and i+j<= (A.shape[0]//1):\n",
    "            A[i][j][0]=255\n",
    "            A[i][j][1]=255\n",
    "        if i<=j and i+j>= (A.shape[0]//1):\n",
    "            A[i][j][2]=255\n",
    "            A[i][j][1]=255\n",
    "        if i>=j and i+j<= (A.shape[0]//1):\n",
    "            A[i][j][2]=255\n",
    "            A[i][j][0]=255\n",
    "        if i>=j and i+j>= (A.shape[0]//1):\n",
    "            A[i][j][0]=0\n",
    "            A[i][j][1]=0\n",
    "            A[i][j][2]=0\n",
    "\n",
    "\n"
   ]
  },
  {
   "cell_type": "code",
   "execution_count": 4,
   "metadata": {},
   "outputs": [
    {
     "data": {
      "text/plain": [
       "True"
      ]
     },
     "execution_count": 4,
     "metadata": {},
     "output_type": "execute_result"
    }
   ],
   "source": [
    "cv2.imwrite('image2.jpeg',A)"
   ]
  },
  {
   "cell_type": "code",
   "execution_count": null,
   "metadata": {},
   "outputs": [],
   "source": []
  }
 ],
 "metadata": {
  "kernelspec": {
   "display_name": "Python 3.7.6 64-bit ('base': conda)",
   "language": "python",
   "name": "python37664bitbasecondaea71ced63f4b4ecf89c44309662bbcb1"
  },
  "language_info": {
   "codemirror_mode": {
    "name": "ipython",
    "version": 3
   },
   "file_extension": ".py",
   "mimetype": "text/x-python",
   "name": "python",
   "nbconvert_exporter": "python",
   "pygments_lexer": "ipython3",
   "version": "3.7.6"
  }
 },
 "nbformat": 4,
 "nbformat_minor": 4
}
